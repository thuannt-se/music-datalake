{
 "cells": [
  {
   "cell_type": "code",
   "execution_count": 1,
   "id": "7c3b114b",
   "metadata": {},
   "outputs": [
    {
     "data": {
      "application/vnd.jupyter.widget-view+json": {
       "model_id": "9fb95fe2afe84eb7b19295b59d7c0d05",
       "version_major": 2,
       "version_minor": 0
      },
      "text/plain": [
       "VBox()"
      ]
     },
     "metadata": {},
     "output_type": "display_data"
    },
    {
     "name": "stdout",
     "output_type": "stream",
     "text": [
      "Starting Spark application\n"
     ]
    },
    {
     "data": {
      "text/html": [
       "<table>\n",
       "<tr><th>ID</th><th>YARN Application ID</th><th>Kind</th><th>State</th><th>Spark UI</th><th>Driver log</th><th>Current session?</th></tr><tr><td>0</td><td>application_1625390255634_0001</td><td>pyspark</td><td>idle</td><td><a target=\"_blank\" href=\"http://ip-172-31-62-197.ec2.internal:20888/proxy/application_1625390255634_0001/\">Link</a></td><td><a target=\"_blank\" href=\"http://ip-172-31-54-80.ec2.internal:8042/node/containerlogs/container_1625390255634_0001_01_000001/livy\">Link</a></td><td>✔</td></tr></table>"
      ],
      "text/plain": [
       "<IPython.core.display.HTML object>"
      ]
     },
     "metadata": {},
     "output_type": "display_data"
    },
    {
     "data": {
      "application/vnd.jupyter.widget-view+json": {
       "model_id": "",
       "version_major": 2,
       "version_minor": 0
      },
      "text/plain": [
       "FloatProgress(value=0.0, bar_style='info', description='Progress:', layout=Layout(height='25px', width='50%'),…"
      ]
     },
     "metadata": {},
     "output_type": "display_data"
    },
    {
     "name": "stdout",
     "output_type": "stream",
     "text": [
      "SparkSession available as 'spark'.\n"
     ]
    },
    {
     "data": {
      "application/vnd.jupyter.widget-view+json": {
       "model_id": "",
       "version_major": 2,
       "version_minor": 0
      },
      "text/plain": [
       "FloatProgress(value=0.0, bar_style='info', description='Progress:', layout=Layout(height='25px', width='50%'),…"
      ]
     },
     "metadata": {},
     "output_type": "display_data"
    }
   ],
   "source": [
    "import configparser\n",
    "from datetime import datetime\n",
    "import os\n",
    "from pyspark.sql import SparkSession\n",
    "from pyspark.sql.functions import monotonically_increasing_id   \n",
    "from pyspark.sql.types import StructType,StructField, StringType, IntegerType, DoubleType, LongType\n",
    "from pyspark.sql.functions import udf, col\n",
    "from pyspark.sql.functions import year, month, dayofmonth, hour, weekofyear, date_format"
   ]
  },
  {
   "cell_type": "code",
   "execution_count": null,
   "id": "3f9b23ae",
   "metadata": {},
   "outputs": [],
   "source": [
    "spark = SparkSession \\\n",
    "    .builder \\\n",
    "    .appName(\"Sparkify\") \\\n",
    "    .getOrCreate()"
   ]
  },
  {
   "cell_type": "code",
   "execution_count": 2,
   "id": "512570e7",
   "metadata": {},
   "outputs": [
    {
     "data": {
      "application/vnd.jupyter.widget-view+json": {
       "model_id": "a0c114839dcc4b0b9fcbbca2d5c0380a",
       "version_major": 2,
       "version_minor": 0
      },
      "text/plain": [
       "VBox()"
      ]
     },
     "metadata": {},
     "output_type": "display_data"
    },
    {
     "data": {
      "application/vnd.jupyter.widget-view+json": {
       "model_id": "",
       "version_major": 2,
       "version_minor": 0
      },
      "text/plain": [
       "FloatProgress(value=0.0, bar_style='info', description='Progress:', layout=Layout(height='25px', width='50%'),…"
      ]
     },
     "metadata": {},
     "output_type": "display_data"
    }
   ],
   "source": [
    "#song_data/A/B/C/\n",
    "#s3://udacity-dend/song_data\n",
    "#s3://udacity-dend/log_data\n",
    "song_path = \"s3://udacity-dend/song_data/A/B/*/*.json\"\n",
    "log_path = \"s3://udacity-dend/log_data/2018/*/*.json\"\n",
    "log = spark.read.json(log_path)\n",
    "song = spark.read.json(song_path)"
   ]
  },
  {
   "cell_type": "code",
   "execution_count": 3,
   "id": "c6297f78",
   "metadata": {},
   "outputs": [
    {
     "data": {
      "application/vnd.jupyter.widget-view+json": {
       "model_id": "f41f5ab852e647fbb2fe6e573b25f768",
       "version_major": 2,
       "version_minor": 0
      },
      "text/plain": [
       "VBox()"
      ]
     },
     "metadata": {},
     "output_type": "display_data"
    },
    {
     "data": {
      "application/vnd.jupyter.widget-view+json": {
       "model_id": "",
       "version_major": 2,
       "version_minor": 0
      },
      "text/plain": [
       "FloatProgress(value=0.0, bar_style='info', description='Progress:', layout=Layout(height='25px', width='50%'),…"
      ]
     },
     "metadata": {},
     "output_type": "display_data"
    },
    {
     "name": "stdout",
     "output_type": "stream",
     "text": [
      "Row(artist='Harmonia', auth='Logged In', firstName='Ryan', gender='M', itemInSession=0, lastName='Smith', length=655.77751, level='free', location='San Jose-Sunnyvale-Santa Clara, CA', method='PUT', page='NextSong', registration=1541016707796.0, sessionId=583, song='Sehr kosmisch', status=200, ts=1542241826796, userAgent='\"Mozilla/5.0 (X11; Linux x86_64) AppleWebKit/537.36 (KHTML, like Gecko) Ubuntu Chromium/36.0.1985.125 Chrome/36.0.1985.125 Safari/537.36\"', userId='26')"
     ]
    }
   ],
   "source": [
    "filtered_user_log = log.filter(log.page == \"NextSong\")\n",
    "filtered_user_log.head()"
   ]
  },
  {
   "cell_type": "code",
   "execution_count": 4,
   "id": "8ebc7a10",
   "metadata": {},
   "outputs": [
    {
     "data": {
      "application/vnd.jupyter.widget-view+json": {
       "model_id": "cf7c708c4cfe49c2a0a536c14cdb69de",
       "version_major": 2,
       "version_minor": 0
      },
      "text/plain": [
       "VBox()"
      ]
     },
     "metadata": {},
     "output_type": "display_data"
    },
    {
     "data": {
      "application/vnd.jupyter.widget-view+json": {
       "model_id": "",
       "version_major": 2,
       "version_minor": 0
      },
      "text/plain": [
       "FloatProgress(value=0.0, bar_style='info', description='Progress:', layout=Layout(height='25px', width='50%'),…"
      ]
     },
     "metadata": {},
     "output_type": "display_data"
    }
   ],
   "source": [
    "def get_date_unit_function(unit):\n",
    "    switcher={\n",
    "        'start_date_time': udf(lambda x: datetime.fromtimestamp(x/ 1000).strftime(\"%d/%m/%y %H:%M:%S\")),\n",
    "        'start_time': udf(lambda x: datetime.fromtimestamp(x/ 1000).strftime(\"%H:%M:%S\")),\n",
    "        'hour': udf(lambda x: datetime.fromtimestamp(x/ 1000).hour),\n",
    "        'day': udf(lambda x: datetime.fromtimestamp(x/ 1000).day),\n",
    "        'week': udf(lambda x: datetime.fromtimestamp(x/ 1000).isocalendar()[1]),\n",
    "        'month': udf(lambda x: datetime.fromtimestamp(x/ 1000).month),\n",
    "        'year': udf(lambda x: datetime.fromtimestamp(x/ 1000).year),\n",
    "        'weekday': udf(lambda x: datetime.fromtimestamp(x/ 1000).weekday())\n",
    "    }\n",
    "    return switcher.get(unit)\n"
   ]
  },
  {
   "cell_type": "code",
   "execution_count": 5,
   "id": "86644252",
   "metadata": {},
   "outputs": [
    {
     "data": {
      "application/vnd.jupyter.widget-view+json": {
       "model_id": "35b4dc3922754c4aa44768eb89f66b51",
       "version_major": 2,
       "version_minor": 0
      },
      "text/plain": [
       "VBox()"
      ]
     },
     "metadata": {},
     "output_type": "display_data"
    },
    {
     "data": {
      "application/vnd.jupyter.widget-view+json": {
       "model_id": "",
       "version_major": 2,
       "version_minor": 0
      },
      "text/plain": [
       "FloatProgress(value=0.0, bar_style='info', description='Progress:', layout=Layout(height='25px', width='50%'),…"
      ]
     },
     "metadata": {},
     "output_type": "display_data"
    }
   ],
   "source": [
    "time_schema = StructType([ \\\n",
    "        StructField(\"start_time\",StringType(),True), \\\n",
    "        StructField(\"hour\",IntegerType(),True), \\\n",
    "        StructField(\"day\",IntegerType(),True), \\\n",
    "        StructField(\"week\", IntegerType(), True), \\\n",
    "        StructField(\"month\", IntegerType(), True), \\\n",
    "        StructField(\"year\", IntegerType(), True), \\\n",
    "        StructField(\"weekday\", IntegerType(), True)\n",
    "      ])"
   ]
  },
  {
   "cell_type": "code",
   "execution_count": 6,
   "id": "b78f2c1c",
   "metadata": {},
   "outputs": [
    {
     "data": {
      "application/vnd.jupyter.widget-view+json": {
       "model_id": "45e29cee5cec4b8ab961b89f39f441a3",
       "version_major": 2,
       "version_minor": 0
      },
      "text/plain": [
       "VBox()"
      ]
     },
     "metadata": {},
     "output_type": "display_data"
    },
    {
     "data": {
      "application/vnd.jupyter.widget-view+json": {
       "model_id": "",
       "version_major": 2,
       "version_minor": 0
      },
      "text/plain": [
       "FloatProgress(value=0.0, bar_style='info', description='Progress:', layout=Layout(height='25px', width='50%'),…"
      ]
     },
     "metadata": {},
     "output_type": "display_data"
    }
   ],
   "source": [
    "filtered_user_log = filtered_user_log.withColumn(\"start_time\",get_date_unit_function('start_time')(filtered_user_log.ts)). \\\n",
    "                            withColumn(\"hour\",get_date_unit_function('hour')(filtered_user_log.ts)). \\\n",
    "                            withColumn(\"day\",get_date_unit_function('day')(filtered_user_log.ts)). \\\n",
    "                            withColumn(\"week\",get_date_unit_function('week')(filtered_user_log.ts)). \\\n",
    "                            withColumn(\"month\",get_date_unit_function('month')(filtered_user_log.ts)). \\\n",
    "                            withColumn(\"year\",get_date_unit_function('year')(filtered_user_log.ts)). \\\n",
    "                            withColumn(\"weekday\",get_date_unit_function('weekday')(filtered_user_log.ts))\n"
   ]
  },
  {
   "cell_type": "code",
   "execution_count": 7,
   "id": "4cefc5d7",
   "metadata": {},
   "outputs": [
    {
     "data": {
      "application/vnd.jupyter.widget-view+json": {
       "model_id": "08e745bcbb44452584722552dae03a76",
       "version_major": 2,
       "version_minor": 0
      },
      "text/plain": [
       "VBox()"
      ]
     },
     "metadata": {},
     "output_type": "display_data"
    },
    {
     "data": {
      "application/vnd.jupyter.widget-view+json": {
       "model_id": "",
       "version_major": 2,
       "version_minor": 0
      },
      "text/plain": [
       "FloatProgress(value=0.0, bar_style='info', description='Progress:', layout=Layout(height='25px', width='50%'),…"
      ]
     },
     "metadata": {},
     "output_type": "display_data"
    }
   ],
   "source": [
    "time_data = filtered_user_log.select(\"start_time\", col(\"hour\").cast('int').alias(\"hour\"), col(\"day\").cast('int').alias(\"day\"), \\\n",
    "                                     col(\"week\").cast('int').alias(\"week\"), col(\"month\").cast('int').alias(\"month\"), \\\n",
    "                                     col(\"year\").cast('int').alias(\"year\"), col(\"weekday\").cast('int').alias(\"weekday\")).collect()"
   ]
  },
  {
   "cell_type": "code",
   "execution_count": 10,
   "id": "bcd87936",
   "metadata": {},
   "outputs": [
    {
     "data": {
      "application/vnd.jupyter.widget-view+json": {
       "model_id": "1a66b5d874114fdbb8c1d24de827be22",
       "version_major": 2,
       "version_minor": 0
      },
      "text/plain": [
       "VBox()"
      ]
     },
     "metadata": {},
     "output_type": "display_data"
    },
    {
     "data": {
      "application/vnd.jupyter.widget-view+json": {
       "model_id": "",
       "version_major": 2,
       "version_minor": 0
      },
      "text/plain": [
       "FloatProgress(value=0.0, bar_style='info', description='Progress:', layout=Layout(height='25px', width='50%'),…"
      ]
     },
     "metadata": {},
     "output_type": "display_data"
    }
   ],
   "source": [
    "time_df = spark.createDataFrame(data=time_data, schema=time_schema)\n",
    "time_df.write.partitionBy(\"year\",\"month\").mode(\"overwrite\").parquet(\"s3://sparkify-stored-tabled/time-table\")"
   ]
  },
  {
   "cell_type": "code",
   "execution_count": 11,
   "id": "d9e061ea",
   "metadata": {},
   "outputs": [
    {
     "data": {
      "application/vnd.jupyter.widget-view+json": {
       "model_id": "03d0c8f3f1734c57a14c860ce48be44e",
       "version_major": 2,
       "version_minor": 0
      },
      "text/plain": [
       "VBox()"
      ]
     },
     "metadata": {},
     "output_type": "display_data"
    },
    {
     "data": {
      "application/vnd.jupyter.widget-view+json": {
       "model_id": "",
       "version_major": 2,
       "version_minor": 0
      },
      "text/plain": [
       "FloatProgress(value=0.0, bar_style='info', description='Progress:', layout=Layout(height='25px', width='50%'),…"
      ]
     },
     "metadata": {},
     "output_type": "display_data"
    }
   ],
   "source": [
    "user_schema = StructType([ \\\n",
    "        StructField(\"user_id\",StringType(),False), \\\n",
    "        StructField(\"first_name\",StringType(),True), \\\n",
    "        StructField(\"last_name\",StringType(),True), \\\n",
    "        StructField(\"gender\", StringType(), True), \\\n",
    "        StructField(\"level\", StringType(), True)\n",
    "      ])"
   ]
  },
  {
   "cell_type": "code",
   "execution_count": 13,
   "id": "dd64578e",
   "metadata": {},
   "outputs": [
    {
     "data": {
      "application/vnd.jupyter.widget-view+json": {
       "model_id": "eb7ecaf2539144fe9c26111f78fbe9f7",
       "version_major": 2,
       "version_minor": 0
      },
      "text/plain": [
       "VBox()"
      ]
     },
     "metadata": {},
     "output_type": "display_data"
    },
    {
     "data": {
      "application/vnd.jupyter.widget-view+json": {
       "model_id": "",
       "version_major": 2,
       "version_minor": 0
      },
      "text/plain": [
       "FloatProgress(value=0.0, bar_style='info', description='Progress:', layout=Layout(height='25px', width='50%'),…"
      ]
     },
     "metadata": {},
     "output_type": "display_data"
    }
   ],
   "source": [
    "user_data = filtered_user_log.select(\"userId\", \"firstName\", \"lastName\", \"gender\", \"level\").where(col(\"userId\").isNotNull()).dropDuplicates().collect()"
   ]
  },
  {
   "cell_type": "code",
   "execution_count": 15,
   "id": "7b8a2f8d",
   "metadata": {},
   "outputs": [
    {
     "data": {
      "application/vnd.jupyter.widget-view+json": {
       "model_id": "8835e37fe4ca4e4d8cbeb890c6a7a537",
       "version_major": 2,
       "version_minor": 0
      },
      "text/plain": [
       "VBox()"
      ]
     },
     "metadata": {},
     "output_type": "display_data"
    },
    {
     "data": {
      "application/vnd.jupyter.widget-view+json": {
       "model_id": "",
       "version_major": 2,
       "version_minor": 0
      },
      "text/plain": [
       "FloatProgress(value=0.0, bar_style='info', description='Progress:', layout=Layout(height='25px', width='50%'),…"
      ]
     },
     "metadata": {},
     "output_type": "display_data"
    }
   ],
   "source": [
    "user_df = spark.createDataFrame(data=user_data, schema=user_schema)\n",
    "user_df.write.mode(\"overwrite\").parquet(\"s3://sparkify-stored-tabled/users-table\")"
   ]
  },
  {
   "cell_type": "code",
   "execution_count": 16,
   "id": "fb1f766e",
   "metadata": {},
   "outputs": [
    {
     "data": {
      "application/vnd.jupyter.widget-view+json": {
       "model_id": "30c0aea8cff34e828cf2ae3613f750a6",
       "version_major": 2,
       "version_minor": 0
      },
      "text/plain": [
       "VBox()"
      ]
     },
     "metadata": {},
     "output_type": "display_data"
    },
    {
     "data": {
      "application/vnd.jupyter.widget-view+json": {
       "model_id": "",
       "version_major": 2,
       "version_minor": 0
      },
      "text/plain": [
       "FloatProgress(value=0.0, bar_style='info', description='Progress:', layout=Layout(height='25px', width='50%'),…"
      ]
     },
     "metadata": {},
     "output_type": "display_data"
    }
   ],
   "source": [
    "song_schema = StructType([ \\\n",
    "        StructField(\"song_id\",StringType(),False), \\\n",
    "        StructField(\"title\",StringType(),True), \\\n",
    "        StructField(\"artist_id\",StringType(),True), \\\n",
    "        StructField(\"year\", LongType(), True), \\\n",
    "        StructField(\"duration\", DoubleType(), True)\n",
    "      ])"
   ]
  },
  {
   "cell_type": "code",
   "execution_count": 17,
   "id": "14911419",
   "metadata": {},
   "outputs": [
    {
     "data": {
      "application/vnd.jupyter.widget-view+json": {
       "model_id": "8f27cbb580284f6195a08f389a7b8825",
       "version_major": 2,
       "version_minor": 0
      },
      "text/plain": [
       "VBox()"
      ]
     },
     "metadata": {},
     "output_type": "display_data"
    },
    {
     "data": {
      "application/vnd.jupyter.widget-view+json": {
       "model_id": "",
       "version_major": 2,
       "version_minor": 0
      },
      "text/plain": [
       "FloatProgress(value=0.0, bar_style='info', description='Progress:', layout=Layout(height='25px', width='50%'),…"
      ]
     },
     "metadata": {},
     "output_type": "display_data"
    }
   ],
   "source": [
    "song_data = song.select(\"song_id\", \"title\", \"artist_id\", col(\"year\").cast('int').alias(\"year\"), \\\n",
    "                        col(\"duration\").cast('double').alias(\"duration\")).where(col(\"song_id\").isNotNull()).dropDuplicates().collect()"
   ]
  },
  {
   "cell_type": "code",
   "execution_count": 18,
   "id": "51d63dac",
   "metadata": {},
   "outputs": [
    {
     "data": {
      "application/vnd.jupyter.widget-view+json": {
       "model_id": "6d37feb376b84de59be1264eb7a8e32c",
       "version_major": 2,
       "version_minor": 0
      },
      "text/plain": [
       "VBox()"
      ]
     },
     "metadata": {},
     "output_type": "display_data"
    },
    {
     "data": {
      "application/vnd.jupyter.widget-view+json": {
       "model_id": "",
       "version_major": 2,
       "version_minor": 0
      },
      "text/plain": [
       "FloatProgress(value=0.0, bar_style='info', description='Progress:', layout=Layout(height='25px', width='50%'),…"
      ]
     },
     "metadata": {},
     "output_type": "display_data"
    }
   ],
   "source": [
    "song_df = spark.createDataFrame(data=song_data, schema=song_schema)"
   ]
  },
  {
   "cell_type": "code",
   "execution_count": 20,
   "id": "7246e758",
   "metadata": {},
   "outputs": [
    {
     "data": {
      "application/vnd.jupyter.widget-view+json": {
       "model_id": "f9f83e6ffd874589b080df1888aefb55",
       "version_major": 2,
       "version_minor": 0
      },
      "text/plain": [
       "VBox()"
      ]
     },
     "metadata": {},
     "output_type": "display_data"
    },
    {
     "data": {
      "application/vnd.jupyter.widget-view+json": {
       "model_id": "",
       "version_major": 2,
       "version_minor": 0
      },
      "text/plain": [
       "FloatProgress(value=0.0, bar_style='info', description='Progress:', layout=Layout(height='25px', width='50%'),…"
      ]
     },
     "metadata": {},
     "output_type": "display_data"
    }
   ],
   "source": [
    "song_df.write.partitionBy(\"year\",\"artist_id\").mode(\"overwrite\").parquet(\"s3://sparkify-stored-tabled/songs-table\")"
   ]
  },
  {
   "cell_type": "code",
   "execution_count": 21,
   "id": "0737d003",
   "metadata": {},
   "outputs": [
    {
     "data": {
      "application/vnd.jupyter.widget-view+json": {
       "model_id": "1e22bf04102342d5bac09855235ed0ce",
       "version_major": 2,
       "version_minor": 0
      },
      "text/plain": [
       "VBox()"
      ]
     },
     "metadata": {},
     "output_type": "display_data"
    },
    {
     "data": {
      "application/vnd.jupyter.widget-view+json": {
       "model_id": "",
       "version_major": 2,
       "version_minor": 0
      },
      "text/plain": [
       "FloatProgress(value=0.0, bar_style='info', description='Progress:', layout=Layout(height='25px', width='50%'),…"
      ]
     },
     "metadata": {},
     "output_type": "display_data"
    }
   ],
   "source": [
    "artist_schema = StructType([ \\\n",
    "        StructField(\"artist_id\",StringType(),False), \\\n",
    "        StructField(\"name\",StringType(),True), \\\n",
    "        StructField(\"location\",StringType(),True), \\\n",
    "        StructField(\"latitude\", DoubleType(), True), \\\n",
    "        StructField(\"longitude\", DoubleType(), True)\n",
    "      ])"
   ]
  },
  {
   "cell_type": "code",
   "execution_count": 22,
   "id": "511a5dbf",
   "metadata": {},
   "outputs": [
    {
     "data": {
      "application/vnd.jupyter.widget-view+json": {
       "model_id": "f0eb7220b609480aa865801fdb3aa546",
       "version_major": 2,
       "version_minor": 0
      },
      "text/plain": [
       "VBox()"
      ]
     },
     "metadata": {},
     "output_type": "display_data"
    },
    {
     "data": {
      "application/vnd.jupyter.widget-view+json": {
       "model_id": "",
       "version_major": 2,
       "version_minor": 0
      },
      "text/plain": [
       "FloatProgress(value=0.0, bar_style='info', description='Progress:', layout=Layout(height='25px', width='50%'),…"
      ]
     },
     "metadata": {},
     "output_type": "display_data"
    }
   ],
   "source": [
    "artist_data = song.select(\"artist_id\", col(\"artist_name\").alias(\"name\"), col(\"artist_location\").alias(\"location\"), \\\n",
    "                          col(\"artist_latitude\").alias(\"latitude\"), col(\"artist_longitude\").alias(\"longitude\")).where(col(\"artist_id\").isNotNull()).dropDuplicates().collect()"
   ]
  },
  {
   "cell_type": "code",
   "execution_count": 23,
   "id": "3265712f",
   "metadata": {},
   "outputs": [
    {
     "data": {
      "application/vnd.jupyter.widget-view+json": {
       "model_id": "746f80e601154be4b00a37819c85d359",
       "version_major": 2,
       "version_minor": 0
      },
      "text/plain": [
       "VBox()"
      ]
     },
     "metadata": {},
     "output_type": "display_data"
    },
    {
     "data": {
      "application/vnd.jupyter.widget-view+json": {
       "model_id": "",
       "version_major": 2,
       "version_minor": 0
      },
      "text/plain": [
       "FloatProgress(value=0.0, bar_style='info', description='Progress:', layout=Layout(height='25px', width='50%'),…"
      ]
     },
     "metadata": {},
     "output_type": "display_data"
    }
   ],
   "source": [
    "artist_df = spark.createDataFrame(data=artist_data, schema=artist_schema)"
   ]
  },
  {
   "cell_type": "code",
   "execution_count": 24,
   "id": "18192195",
   "metadata": {},
   "outputs": [
    {
     "data": {
      "application/vnd.jupyter.widget-view+json": {
       "model_id": "24407d0756724b1dac779e06bf446eb4",
       "version_major": 2,
       "version_minor": 0
      },
      "text/plain": [
       "VBox()"
      ]
     },
     "metadata": {},
     "output_type": "display_data"
    },
    {
     "data": {
      "application/vnd.jupyter.widget-view+json": {
       "model_id": "",
       "version_major": 2,
       "version_minor": 0
      },
      "text/plain": [
       "FloatProgress(value=0.0, bar_style='info', description='Progress:', layout=Layout(height='25px', width='50%'),…"
      ]
     },
     "metadata": {},
     "output_type": "display_data"
    }
   ],
   "source": [
    "artist_df.write.mode(\"overwrite\").parquet(\"s3://sparkify-stored-tabled/artists-table\")"
   ]
  },
  {
   "cell_type": "code",
   "execution_count": 36,
   "id": "60aab384",
   "metadata": {},
   "outputs": [
    {
     "data": {
      "application/vnd.jupyter.widget-view+json": {
       "model_id": "f4b66c5ff880469893ba559bbf3d64e5",
       "version_major": 2,
       "version_minor": 0
      },
      "text/plain": [
       "VBox()"
      ]
     },
     "metadata": {},
     "output_type": "display_data"
    },
    {
     "data": {
      "application/vnd.jupyter.widget-view+json": {
       "model_id": "",
       "version_major": 2,
       "version_minor": 0
      },
      "text/plain": [
       "FloatProgress(value=0.0, bar_style='info', description='Progress:', layout=Layout(height='25px', width='50%'),…"
      ]
     },
     "metadata": {},
     "output_type": "display_data"
    }
   ],
   "source": [
    "songplay_schema = StructType([ \\\n",
    "        StructField(\"songplay_id\",LongType(),False), \\\n",
    "        StructField(\"start_time\",LongType(),False), \\\n",
    "        StructField(\"user_id\",StringType(),False), \\\n",
    "        StructField(\"level\", StringType(), True), \\\n",
    "        StructField(\"song_id\", StringType(), True), \\\n",
    "        StructField(\"artist_id\", StringType(), True), \\\n",
    "        StructField(\"session_id\", StringType(), True), \\\n",
    "        StructField(\"location\", StringType(), True), \\\n",
    "        StructField(\"user_agent\", StringType(), True), \\\n",
    "        StructField(\"year\", IntegerType(), False), \\\n",
    "        StructField(\"month\", IntegerType(), False)\n",
    "      ])"
   ]
  },
  {
   "cell_type": "code",
   "execution_count": 31,
   "id": "01adfaa1",
   "metadata": {},
   "outputs": [
    {
     "data": {
      "application/vnd.jupyter.widget-view+json": {
       "model_id": "102034f1152341b8adaf93e3659bd685",
       "version_major": 2,
       "version_minor": 0
      },
      "text/plain": [
       "VBox()"
      ]
     },
     "metadata": {},
     "output_type": "display_data"
    },
    {
     "data": {
      "application/vnd.jupyter.widget-view+json": {
       "model_id": "",
       "version_major": 2,
       "version_minor": 0
      },
      "text/plain": [
       "FloatProgress(value=0.0, bar_style='info', description='Progress:', layout=Layout(height='25px', width='50%'),…"
      ]
     },
     "metadata": {},
     "output_type": "display_data"
    },
    {
     "name": "stdout",
     "output_type": "stream",
     "text": [
      "root\n",
      " |-- artist: string (nullable = true)\n",
      " |-- auth: string (nullable = true)\n",
      " |-- firstName: string (nullable = true)\n",
      " |-- gender: string (nullable = true)\n",
      " |-- itemInSession: long (nullable = true)\n",
      " |-- lastName: string (nullable = true)\n",
      " |-- length: double (nullable = true)\n",
      " |-- level: string (nullable = true)\n",
      " |-- location: string (nullable = true)\n",
      " |-- method: string (nullable = true)\n",
      " |-- page: string (nullable = true)\n",
      " |-- registration: double (nullable = true)\n",
      " |-- sessionId: long (nullable = true)\n",
      " |-- song: string (nullable = true)\n",
      " |-- status: long (nullable = true)\n",
      " |-- ts: long (nullable = true)\n",
      " |-- userAgent: string (nullable = true)\n",
      " |-- userId: string (nullable = true)\n",
      " |-- start_time: string (nullable = true)\n",
      " |-- hour: string (nullable = true)\n",
      " |-- day: string (nullable = true)\n",
      " |-- week: string (nullable = true)\n",
      " |-- month: string (nullable = true)\n",
      " |-- year: string (nullable = true)\n",
      " |-- weekday: string (nullable = true)\n",
      " |-- artist_id: string (nullable = true)\n",
      " |-- latitude: double (nullable = true)\n",
      " |-- longitude: double (nullable = true)\n",
      " |-- song_id: string (nullable = true)\n",
      " |-- year: long (nullable = true)\n",
      " |-- duration: double (nullable = true)\n",
      " |-- songplay_id: long (nullable = false)"
     ]
    }
   ],
   "source": [
    "joined_df = filtered_user_log.join(artist_df, filtered_user_log.artist == artist_df.name, how='left').\\\n",
    "                join(song_df, filtered_user_log.song == song_df.title, how='left'). \\\n",
    "                drop(artist_df.name).drop(song_df.title).drop(artist_df.location).drop(artist_df.artist_id). \\\n",
    "                drop(song_df.artist_id). \\\n",
    "                withColumn(\"songplay_id\",monotonically_increasing_id())\n",
    "joined_df.printSchema()"
   ]
  },
  {
   "cell_type": "code",
   "execution_count": 37,
   "id": "7bdf37c1",
   "metadata": {},
   "outputs": [
    {
     "data": {
      "application/vnd.jupyter.widget-view+json": {
       "model_id": "9d5554b891064d02b947898207dd3e98",
       "version_major": 2,
       "version_minor": 0
      },
      "text/plain": [
       "VBox()"
      ]
     },
     "metadata": {},
     "output_type": "display_data"
    },
    {
     "data": {
      "application/vnd.jupyter.widget-view+json": {
       "model_id": "",
       "version_major": 2,
       "version_minor": 0
      },
      "text/plain": [
       "FloatProgress(value=0.0, bar_style='info', description='Progress:', layout=Layout(height='25px', width='50%'),…"
      ]
     },
     "metadata": {},
     "output_type": "display_data"
    }
   ],
   "source": [
    "songplays_data = joined_df.select(\"songplay_id\", col(\"ts\").alias(\"start_time\"), col(\"userId\").alias(\"user_id\"), \"level\", \"song_id\", \\\n",
    "                                     \"artist_id\", col(\"sessionId\").alias(\"session_id\"), \\\n",
    "                                     \"location\", col(\"userAgent\").alias(\"user_agent\"), get_date_unit_function(\"year\")(joined_df.ts).cast('int'), \\\n",
    "                                     get_date_unit_function(\"month\")(joined_df.ts).cast('int')).dropDuplicates().collect()"
   ]
  },
  {
   "cell_type": "code",
   "execution_count": 39,
   "id": "268b0ce9",
   "metadata": {},
   "outputs": [
    {
     "data": {
      "application/vnd.jupyter.widget-view+json": {
       "model_id": "6442762b08c241a995bfd18e02e60488",
       "version_major": 2,
       "version_minor": 0
      },
      "text/plain": [
       "VBox()"
      ]
     },
     "metadata": {},
     "output_type": "display_data"
    },
    {
     "data": {
      "application/vnd.jupyter.widget-view+json": {
       "model_id": "",
       "version_major": 2,
       "version_minor": 0
      },
      "text/plain": [
       "FloatProgress(value=0.0, bar_style='info', description='Progress:', layout=Layout(height='25px', width='50%'),…"
      ]
     },
     "metadata": {},
     "output_type": "display_data"
    }
   ],
   "source": [
    "songplays_df = spark.createDataFrame(data=songplays_data, schema=songplay_schema)"
   ]
  },
  {
   "cell_type": "code",
   "execution_count": 40,
   "id": "3b9b17ab",
   "metadata": {},
   "outputs": [
    {
     "data": {
      "application/vnd.jupyter.widget-view+json": {
       "model_id": "20606ab8e7db44fab9d7b87c2f3c8f60",
       "version_major": 2,
       "version_minor": 0
      },
      "text/plain": [
       "VBox()"
      ]
     },
     "metadata": {},
     "output_type": "display_data"
    },
    {
     "data": {
      "application/vnd.jupyter.widget-view+json": {
       "model_id": "",
       "version_major": 2,
       "version_minor": 0
      },
      "text/plain": [
       "FloatProgress(value=0.0, bar_style='info', description='Progress:', layout=Layout(height='25px', width='50%'),…"
      ]
     },
     "metadata": {},
     "output_type": "display_data"
    }
   ],
   "source": [
    "songplays_df.write.partitionBy(\"year\", \"month\").mode(\"overwrite\").parquet(\"s3://sparkify-stored-tabled/songplays-table\")"
   ]
  },
  {
   "cell_type": "code",
   "execution_count": 41,
   "id": "677f7efd",
   "metadata": {},
   "outputs": [
    {
     "data": {
      "application/vnd.jupyter.widget-view+json": {
       "model_id": "6859e5f9ec654f0aba5b3392c501e1da",
       "version_major": 2,
       "version_minor": 0
      },
      "text/plain": [
       "VBox()"
      ]
     },
     "metadata": {},
     "output_type": "display_data"
    },
    {
     "data": {
      "application/vnd.jupyter.widget-view+json": {
       "model_id": "",
       "version_major": 2,
       "version_minor": 0
      },
      "text/plain": [
       "FloatProgress(value=0.0, bar_style='info', description='Progress:', layout=Layout(height='25px', width='50%'),…"
      ]
     },
     "metadata": {},
     "output_type": "display_data"
    },
    {
     "name": "stdout",
     "output_type": "stream",
     "text": [
      "[Row(songplay_id=6, start_time=1542568680796, user_id='29', level='paid', song_id=None, artist_id=None, session_id='589', location='Atlanta-Sandy Springs-Roswell, GA', user_agent='\"Mozilla/5.0 (Macintosh; Intel Mac OS X 10_9_4) AppleWebKit/537.78.2 (KHTML, like Gecko) Version/7.0.6 Safari/537.78.2\"', year=2018, month=11), Row(songplay_id=8589934592, start_time=1542130679796, user_id='97', level='paid', song_id=None, artist_id=None, session_id='537', location='Lansing-East Lansing, MI', user_agent='\"Mozilla/5.0 (X11; Linux x86_64) AppleWebKit/537.36 (KHTML, like Gecko) Chrome/37.0.2062.94 Safari/537.36\"', year=2018, month=11), Row(songplay_id=8589934604, start_time=1542836964796, user_id='15', level='paid', song_id=None, artist_id=None, session_id='818', location='Chicago-Naperville-Elgin, IL-IN-WI', user_agent='\"Mozilla/5.0 (X11; Linux x86_64) AppleWebKit/537.36 (KHTML, like Gecko) Ubuntu Chromium/36.0.1985.125 Chrome/36.0.1985.125 Safari/537.36\"', year=2018, month=11), Row(songplay_id=68719476763, start_time=1542298725796, user_id='32', level='free', song_id=None, artist_id=None, session_id='554', location='New York-Newark-Jersey City, NY-NJ-PA', user_agent='\"Mozilla/5.0 (Windows NT 6.1; WOW64) AppleWebKit/537.36 (KHTML, like Gecko) Chrome/36.0.1985.125 Safari/537.36\"', year=2018, month=11), Row(songplay_id=77309411349, start_time=1542828389796, user_id='97', level='paid', song_id=None, artist_id=None, session_id='817', location='Lansing-East Lansing, MI', user_agent='\"Mozilla/5.0 (X11; Linux x86_64) AppleWebKit/537.36 (KHTML, like Gecko) Chrome/37.0.2062.94 Safari/537.36\"', year=2018, month=11)]"
     ]
    }
   ],
   "source": [
    "songplays_df.take(5)"
   ]
  },
  {
   "cell_type": "code",
   "execution_count": 42,
   "id": "7060e49f",
   "metadata": {},
   "outputs": [
    {
     "data": {
      "application/vnd.jupyter.widget-view+json": {
       "model_id": "e77fd1b8418944a39e158580c2883037",
       "version_major": 2,
       "version_minor": 0
      },
      "text/plain": [
       "VBox()"
      ]
     },
     "metadata": {},
     "output_type": "display_data"
    },
    {
     "data": {
      "application/vnd.jupyter.widget-view+json": {
       "model_id": "",
       "version_major": 2,
       "version_minor": 0
      },
      "text/plain": [
       "FloatProgress(value=0.0, bar_style='info', description='Progress:', layout=Layout(height='25px', width='50%'),…"
      ]
     },
     "metadata": {},
     "output_type": "display_data"
    }
   ],
   "source": [
    "test_df = spark.read.load(\"s3://sparkify-stored-tabled/artists-table\")"
   ]
  },
  {
   "cell_type": "code",
   "execution_count": 43,
   "id": "3e8de74c",
   "metadata": {},
   "outputs": [
    {
     "data": {
      "application/vnd.jupyter.widget-view+json": {
       "model_id": "4ec5815b671e48a9baabc0d86a86064d",
       "version_major": 2,
       "version_minor": 0
      },
      "text/plain": [
       "VBox()"
      ]
     },
     "metadata": {},
     "output_type": "display_data"
    },
    {
     "data": {
      "application/vnd.jupyter.widget-view+json": {
       "model_id": "",
       "version_major": 2,
       "version_minor": 0
      },
      "text/plain": [
       "FloatProgress(value=0.0, bar_style='info', description='Progress:', layout=Layout(height='25px', width='50%'),…"
      ]
     },
     "metadata": {},
     "output_type": "display_data"
    },
    {
     "name": "stdout",
     "output_type": "stream",
     "text": [
      "Row(artist_id='AR633SY1187B9AC3B9', name='Weezer', location='', latitude=None, longitude=None)"
     ]
    }
   ],
   "source": [
    "test_df.head()"
   ]
  },
  {
   "cell_type": "code",
   "execution_count": null,
   "id": "50f543b5",
   "metadata": {},
   "outputs": [],
   "source": []
  }
 ],
 "metadata": {
  "kernelspec": {
   "display_name": "PySpark",
   "language": "",
   "name": "pysparkkernel"
  },
  "language_info": {
   "codemirror_mode": {
    "name": "python",
    "version": 2
   },
   "mimetype": "text/x-python",
   "name": "pyspark",
   "pygments_lexer": "python2"
  }
 },
 "nbformat": 4,
 "nbformat_minor": 5
}
