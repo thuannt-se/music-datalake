{
 "cells": [
  {
   "cell_type": "code",
   "execution_count": 32,
   "metadata": {},
   "outputs": [],
   "source": [
    "import configparser\n",
    "from datetime import datetime\n",
    "import os\n",
    "from pyspark.sql import SparkSession\n",
    "from pyspark.sql.functions import monotonically_increasing_id   \n",
    "from pyspark.sql.types import StructType,StructField, StringType, IntegerType, DoubleType, LongType\n",
    "from pyspark.sql.functions import udf, col\n",
    "from pyspark.sql.functions import year, month, dayofmonth, hour, weekofyear, date_format"
   ]
  },
  {
   "cell_type": "code",
   "execution_count": 4,
   "metadata": {},
   "outputs": [],
   "source": [
    "spark = SparkSession \\\n",
    "    .builder \\\n",
    "    .appName(\"Sparkify\") \\\n",
    "    .getOrCreate()"
   ]
  },
  {
   "cell_type": "code",
   "execution_count": 5,
   "metadata": {},
   "outputs": [],
   "source": [
    "log_path = \"data/log-data/*.json\"\n",
    "song_path = \"data/song_data/*.json\"\n",
    "log = spark.read.json(log_path)\n",
    "song = spark.read.json(song_path)"
   ]
  },
  {
   "cell_type": "code",
   "execution_count": 7,
   "metadata": {},
   "outputs": [
    {
     "data": {
      "text/plain": [
       "Row(artist='Harmonia', auth='Logged In', firstName='Ryan', gender='M', itemInSession=0, lastName='Smith', length=655.77751, level='free', location='San Jose-Sunnyvale-Santa Clara, CA', method='PUT', page='NextSong', registration=1541016707796.0, sessionId=583, song='Sehr kosmisch', status=200, ts=1542241826796, userAgent='\"Mozilla/5.0 (X11; Linux x86_64) AppleWebKit/537.36 (KHTML, like Gecko) Ubuntu Chromium/36.0.1985.125 Chrome/36.0.1985.125 Safari/537.36\"', userId='26')"
      ]
     },
     "execution_count": 7,
     "metadata": {},
     "output_type": "execute_result"
    }
   ],
   "source": [
    "filtered_user_log = log.filter(log.page == \"NextSong\")\n",
    "filtered_user_log.head()"
   ]
  },
  {
   "cell_type": "code",
   "execution_count": 9,
   "metadata": {},
   "outputs": [],
   "source": [
    "def get_date_unit_function(unit):\n",
    "    switcher={\n",
    "        'start_time': udf(lambda x: datetime.fromtimestamp(x/ 1000).strftime(\"%H:%M:%S\")),\n",
    "        'hour': udf(lambda x: datetime.fromtimestamp(x/ 1000).hour),\n",
    "        'day': udf(lambda x: datetime.fromtimestamp(x/ 1000).day),\n",
    "        'week': udf(lambda x: datetime.fromtimestamp(x/ 1000).isocalendar()[1]),\n",
    "        'month': udf(lambda x: datetime.fromtimestamp(x/ 1000).month),\n",
    "        'year': udf(lambda x: datetime.fromtimestamp(x/ 1000).year),\n",
    "        'weekday': udf(lambda x: datetime.fromtimestamp(x/ 1000).weekday())\n",
    "    }\n",
    "    return switcher.get(unit)\n"
   ]
  },
  {
   "cell_type": "code",
   "execution_count": 10,
   "metadata": {},
   "outputs": [],
   "source": [
    "time_schema = StructType([ \\\n",
    "        StructField(\"start_time\",StringType(),True), \\\n",
    "        StructField(\"hour\",IntegerType(),True), \\\n",
    "        StructField(\"day\",IntegerType(),True), \\\n",
    "        StructField(\"week\", IntegerType(), True), \\\n",
    "        StructField(\"month\", IntegerType(), True), \\\n",
    "        StructField(\"year\", IntegerType(), True), \\\n",
    "        StructField(\"weekday\", IntegerType(), True)\n",
    "      ])"
   ]
  },
  {
   "cell_type": "code",
   "execution_count": 11,
   "metadata": {},
   "outputs": [],
   "source": [
    "filtered_user_log = filtered_user_log.withColumn(\"start_time\",get_date_unit_function('start_time')(filtered_user_log.ts)). \\\n",
    "                            withColumn(\"hour\",get_date_unit_function('hour')(filtered_user_log.ts)). \\\n",
    "                            withColumn(\"day\",get_date_unit_function('day')(filtered_user_log.ts)). \\\n",
    "                            withColumn(\"week\",get_date_unit_function('week')(filtered_user_log.ts)). \\\n",
    "                            withColumn(\"month\",get_date_unit_function('month')(filtered_user_log.ts)). \\\n",
    "                            withColumn(\"year\",get_date_unit_function('year')(filtered_user_log.ts)). \\\n",
    "                            withColumn(\"weekday\",get_date_unit_function('weekday')(filtered_user_log.ts))\n"
   ]
  },
  {
   "cell_type": "code",
   "execution_count": 12,
   "metadata": {},
   "outputs": [],
   "source": [
    "time_data = filtered_user_log.select(\"start_time\", col(\"hour\").cast('int').alias(\"hour\"), col(\"day\").cast('int').alias(\"day\"), \\\n",
    "                                     col(\"week\").cast('int').alias(\"week\"), col(\"month\").cast('int').alias(\"month\"), \\\n",
    "                                     col(\"year\").cast('int').alias(\"year\"), col(\"weekday\").cast('int').alias(\"weekday\")).collect()"
   ]
  },
  {
   "cell_type": "code",
   "execution_count": 13,
   "metadata": {},
   "outputs": [],
   "source": [
    "time_df = spark.createDataFrame(data=time_data, schema=time_schema)\n",
    "#time_df.write.partitionBy(\"year\",\"month\").mode(\"overwrite\").parquet(\"/tmp/output/time.parquet\")"
   ]
  },
  {
   "cell_type": "code",
   "execution_count": 14,
   "metadata": {},
   "outputs": [],
   "source": [
    "user_schema = StructType([ \\\n",
    "        StructField(\"user_id\",StringType(),False), \\\n",
    "        StructField(\"first_name\",StringType(),True), \\\n",
    "        StructField(\"last_name\",StringType(),True), \\\n",
    "        StructField(\"gender\", StringType(), True), \\\n",
    "        StructField(\"level\", StringType(), True)\n",
    "      ])"
   ]
  },
  {
   "cell_type": "code",
   "execution_count": 15,
   "metadata": {},
   "outputs": [],
   "source": [
    "user_data = filtered_user_log.select(\"userId\", \"firstName\", \"lastName\", \"gender\", \"level\").where(col(\"userId\").isNotNull()).dropDuplicates().collect()"
   ]
  },
  {
   "cell_type": "code",
   "execution_count": 16,
   "metadata": {},
   "outputs": [],
   "source": [
    "user_df = spark.createDataFrame(data=user_data, schema=user_schema)"
   ]
  },
  {
   "cell_type": "code",
   "execution_count": 17,
   "metadata": {},
   "outputs": [
    {
     "name": "stdout",
     "output_type": "stream",
     "text": [
      "root\n",
      " |-- artist_id: string (nullable = true)\n",
      " |-- artist_latitude: double (nullable = true)\n",
      " |-- artist_location: string (nullable = true)\n",
      " |-- artist_longitude: double (nullable = true)\n",
      " |-- artist_name: string (nullable = true)\n",
      " |-- duration: double (nullable = true)\n",
      " |-- num_songs: long (nullable = true)\n",
      " |-- song_id: string (nullable = true)\n",
      " |-- title: string (nullable = true)\n",
      " |-- year: long (nullable = true)\n",
      "\n"
     ]
    }
   ],
   "source": [
    "song.printSchema()"
   ]
  },
  {
   "cell_type": "code",
   "execution_count": 18,
   "metadata": {},
   "outputs": [],
   "source": [
    "song_schema = StructType([ \\\n",
    "        StructField(\"song_id\",StringType(),False), \\\n",
    "        StructField(\"title\",StringType(),True), \\\n",
    "        StructField(\"artist_id\",StringType(),True), \\\n",
    "        StructField(\"year\", LongType(), True), \\\n",
    "        StructField(\"duration\", DoubleType(), True)\n",
    "      ])"
   ]
  },
  {
   "cell_type": "code",
   "execution_count": 20,
   "metadata": {},
   "outputs": [],
   "source": [
    "song_data = song.select(\"song_id\", \"title\", \"artist_id\", col(\"year\").cast('int').alias(\"year\"), \\\n",
    "                        col(\"duration\").cast('double').alias(\"duration\")).where(col(\"song_id\").isNotNull()).dropDuplicates().collect()"
   ]
  },
  {
   "cell_type": "code",
   "execution_count": 21,
   "metadata": {},
   "outputs": [],
   "source": [
    "song_df = spark.createDataFrame(data=song_data, schema=song_schema)"
   ]
  },
  {
   "cell_type": "code",
   "execution_count": 22,
   "metadata": {},
   "outputs": [
    {
     "name": "stdout",
     "output_type": "stream",
     "text": [
      "root\n",
      " |-- song_id: string (nullable = false)\n",
      " |-- title: string (nullable = true)\n",
      " |-- artist_id: string (nullable = true)\n",
      " |-- year: long (nullable = true)\n",
      " |-- duration: double (nullable = true)\n",
      "\n"
     ]
    }
   ],
   "source": [
    "song_df.printSchema()\n",
    "#song_df.write.partitionBy(\"year\",\"artist_id\").mode(\"overwrite\").parquet(\"/tmp/output/song.parquet\")"
   ]
  },
  {
   "cell_type": "code",
   "execution_count": 23,
   "metadata": {},
   "outputs": [],
   "source": [
    "artist_schema = StructType([ \\\n",
    "        StructField(\"artist_id\",StringType(),False), \\\n",
    "        StructField(\"name\",StringType(),True), \\\n",
    "        StructField(\"location\",StringType(),True), \\\n",
    "        StructField(\"latitude\", DoubleType(), True), \\\n",
    "        StructField(\"longitude\", DoubleType(), True)\n",
    "      ])"
   ]
  },
  {
   "cell_type": "code",
   "execution_count": 24,
   "metadata": {},
   "outputs": [],
   "source": [
    "artist_data = song.select(\"artist_id\", col(\"artist_name\").alias(\"name\"), col(\"artist_location\").alias(\"location\"), \\\n",
    "                          col(\"artist_latitude\").alias(\"latitude\"), col(\"artist_longitude\").alias(\"longitude\")).where(col(\"artist_id\").isNotNull()).dropDuplicates().collect()"
   ]
  },
  {
   "cell_type": "code",
   "execution_count": 25,
   "metadata": {},
   "outputs": [],
   "source": [
    "artist_df = spark.createDataFrame(data=artist_data, schema=artist_schema)"
   ]
  },
  {
   "cell_type": "code",
   "execution_count": 26,
   "metadata": {},
   "outputs": [
    {
     "data": {
      "text/plain": [
       "Row(artist_id='ARXR32B1187FB57099', name='Gob', location='', latitude=None, longitude=None)"
      ]
     },
     "execution_count": 26,
     "metadata": {},
     "output_type": "execute_result"
    }
   ],
   "source": [
    "artist_df.head()"
   ]
  },
  {
   "cell_type": "code",
   "execution_count": 56,
   "metadata": {},
   "outputs": [],
   "source": [
    "songplay_schema = StructType([ \\\n",
    "        StructField(\"songplay_id\",LongType(),False), \\\n",
    "        StructField(\"start_time\",StringType(),False), \\\n",
    "        StructField(\"user_id\",StringType(),False), \\\n",
    "        StructField(\"level\", StringType(), True), \\\n",
    "        StructField(\"song_id\", StringType(), True), \\\n",
    "        StructField(\"artist_id\", StringType(), True), \\\n",
    "        StructField(\"session_id\", StringType(), True), \\\n",
    "        StructField(\"location\", StringType(), True), \\\n",
    "        StructField(\"user_agent\", StringType(), True)            \n",
    "      ])"
   ]
  },
  {
   "cell_type": "code",
   "execution_count": 48,
   "metadata": {},
   "outputs": [
    {
     "name": "stdout",
     "output_type": "stream",
     "text": [
      "root\n",
      " |-- artist: string (nullable = true)\n",
      " |-- auth: string (nullable = true)\n",
      " |-- firstName: string (nullable = true)\n",
      " |-- gender: string (nullable = true)\n",
      " |-- itemInSession: long (nullable = true)\n",
      " |-- lastName: string (nullable = true)\n",
      " |-- length: double (nullable = true)\n",
      " |-- level: string (nullable = true)\n",
      " |-- location: string (nullable = true)\n",
      " |-- method: string (nullable = true)\n",
      " |-- page: string (nullable = true)\n",
      " |-- registration: double (nullable = true)\n",
      " |-- sessionId: long (nullable = true)\n",
      " |-- song: string (nullable = true)\n",
      " |-- status: long (nullable = true)\n",
      " |-- ts: long (nullable = true)\n",
      " |-- userAgent: string (nullable = true)\n",
      " |-- userId: string (nullable = true)\n",
      " |-- start_time: string (nullable = true)\n",
      " |-- hour: string (nullable = true)\n",
      " |-- day: string (nullable = true)\n",
      " |-- week: string (nullable = true)\n",
      " |-- month: string (nullable = true)\n",
      " |-- year: string (nullable = true)\n",
      " |-- weekday: string (nullable = true)\n",
      " |-- latitude: double (nullable = true)\n",
      " |-- longitude: double (nullable = true)\n",
      " |-- song_id: string (nullable = true)\n",
      " |-- artist_id: string (nullable = true)\n",
      " |-- year: long (nullable = true)\n",
      " |-- duration: double (nullable = true)\n",
      " |-- songplay_id: long (nullable = false)\n",
      "\n"
     ]
    }
   ],
   "source": [
    "joined_df = filtered_user_log.join(artist_df, filtered_user_log.artist == artist_df.name, how='left').\\\n",
    "                join(song_df, filtered_user_log.song == song_df.title, how='left'). \\\n",
    "                drop(artist_df.name).drop(song_df.title).drop(artist_df.location).drop(artist_df.artist_id). \\\n",
    "                withColumn(\"start_time\",get_date_unit_function('start_time')(filtered_user_log.ts)). \\\n",
    "                withColumn(\"songplay_id\",monotonically_increasing_id())\n",
    "joined_df.printSchema()"
   ]
  },
  {
   "cell_type": "code",
   "execution_count": 54,
   "metadata": {},
   "outputs": [],
   "source": [
    "songplays_data = joined_df.select(\"songplay_id\", \"start_time\", col(\"userId\").alias(\"user_id\"), \"level\", \"song_id\", \\\n",
    "                                     \"artist_id\", col(\"sessionId\").alias(\"session_id\"), \\\n",
    "                                     \"location\", col(\"userAgent\").alias(\"user_agent\")).dropDuplicates().collect()"
   ]
  },
  {
   "cell_type": "code",
   "execution_count": 57,
   "metadata": {},
   "outputs": [],
   "source": [
    "songplays_df = spark.createDataFrame(data=songplays_data, schema=songplay_schema)"
   ]
  },
  {
   "cell_type": "code",
   "execution_count": 58,
   "metadata": {},
   "outputs": [
    {
     "name": "stdout",
     "output_type": "stream",
     "text": [
      "root\n",
      " |-- songplay_id: long (nullable = false)\n",
      " |-- start_time: string (nullable = false)\n",
      " |-- user_id: string (nullable = false)\n",
      " |-- level: string (nullable = true)\n",
      " |-- song_id: string (nullable = true)\n",
      " |-- artist_id: string (nullable = true)\n",
      " |-- session_id: string (nullable = true)\n",
      " |-- location: string (nullable = true)\n",
      " |-- user_agent: string (nullable = true)\n",
      "\n"
     ]
    }
   ],
   "source": [
    "songplays_df.printSchema()"
   ]
  },
  {
   "cell_type": "code",
   "execution_count": 59,
   "metadata": {},
   "outputs": [
    {
     "data": {
      "text/plain": [
       "Row(songplay_id=42949672979, start_time='23:21:20', user_id='30', level='paid', song_id=None, artist_id=None, session_id='324', location='San Jose-Sunnyvale-Santa Clara, CA', user_agent='Mozilla/5.0 (Windows NT 6.1; WOW64; rv:31.0) Gecko/20100101 Firefox/31.0')"
      ]
     },
     "execution_count": 59,
     "metadata": {},
     "output_type": "execute_result"
    }
   ],
   "source": [
    "songplays_df.head()"
   ]
  },
  {
   "cell_type": "code",
   "execution_count": null,
   "metadata": {},
   "outputs": [],
   "source": []
  }
 ],
 "metadata": {
  "kernelspec": {
   "display_name": "Python_DS",
   "language": "python",
   "name": "python_ds"
  },
  "language_info": {
   "codemirror_mode": {
    "name": "ipython",
    "version": 3
   },
   "file_extension": ".py",
   "mimetype": "text/x-python",
   "name": "python",
   "nbconvert_exporter": "python",
   "pygments_lexer": "ipython3",
   "version": "3.8.10"
  }
 },
 "nbformat": 4,
 "nbformat_minor": 5
}
